{
    "cells": [
        {
            "cell_type": "markdown",
            "metadata": {},
            "source": [
                "# Example usage\n",
                "\n",
                "To use `python_project_RD` in a project:"
            ]
        },
        {
            "cell_type": "code",
            "execution_count": null,
            "metadata": {},
            "outputs": [],
            "source": [
                "from src.python_project_RD.extra_broker import Backtest\n",
                "from pybacktestchain.broker import StopLoss\n",
                "from src.python_project_RD.user_function import get_initial_parameter, strategy_choice, ask_user_for_comment\n",
                "\n",
                "# Enable or disable logging verbosity\n",
                "verbose = False  # Set to True to enable logging, or False to suppress it\n",
                "\n",
                "\n",
                "initial_cash, stop_loss_threshold, start_date, end_date = get_initial_parameter()# Gather initial parameters from the user\n",
                "strategy, strategy_name = strategy_choice()# Allow the user to choose a trading strategy and store the selected strategy name\n",
                "ask_user_for_comment() # Prompt the user for additional comments regarding the backtest setup\n",
                "\n",
                "# Create a customized backtest instance with user-defined parameters\n",
                "backtest = Backtest(\n",
                "    initial_date=start_date,          # Start date for the backtesting period\n",
                "    final_date=end_date,              # End date for the backtesting period\n",
                "    initial_cash=initial_cash,        # Initial cash amount for the backtest\n",
                "    threshold=stop_loss_threshold,     # Stop loss threshold for risk management\n",
                "    information_class=strategy,       # Selected strategy class for the backtest\n",
                "    strategy_name=strategy_name,      # User-defined name for the selected strategy\n",
                "    risk_model=StopLoss,               # Risk model used in the backtest (e.g., Stop Loss)\n",
                "    name_blockchain='backtest',        # Name identifier for the backtest instance\n",
                "    verbose=verbose                    # Logging verbosity setting\n",
                ")\n",
                "\n",
                "# Execute the backtest with the specified parameters\n",
                "backtest.run_backtest()"
            ]
        }
    ],
    "metadata": {
        "kernelspec": {
            "display_name": "Python 3",
            "language": "python",
            "name": "python3"
        },
        "language_info": {
            "codemirror_mode": {
                "name": "ipython",
                "version": 3
            },
            "file_extension": ".py",
            "mimetype": "text/x-python",
            "name": "python",
            "nbconvert_exporter": "python",
            "pygments_lexer": "ipython3",
            "version": "3.8.5"
        }
    },
    "nbformat": 4,
    "nbformat_minor": 4
}
